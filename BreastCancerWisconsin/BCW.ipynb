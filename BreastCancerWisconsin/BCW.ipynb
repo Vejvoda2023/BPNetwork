{
 "cells": [
  {
   "cell_type": "code",
   "id": "initial_id",
   "metadata": {
    "collapsed": true,
    "ExecuteTime": {
     "end_time": "2025-04-26T08:53:04.789384Z",
     "start_time": "2025-04-26T08:53:03.184959Z"
    }
   },
   "source": [
    "from sklearn.neural_network import MLPClassifier\n",
    "from sklearn.model_selection import train_test_split\n",
    "from sklearn.metrics import classification_report\n",
    "from sklearn.datasets import load_breast_cancer\n",
    "\n",
    "data = load_breast_cancer()\n",
    "X, y = data.data, data.target"
   ],
   "outputs": [],
   "execution_count": 1
  },
  {
   "metadata": {
    "ExecuteTime": {
     "end_time": "2025-04-26T08:53:15.381682Z",
     "start_time": "2025-04-26T08:53:15.357430Z"
    }
   },
   "cell_type": "code",
   "source": [
    "X_train, X_test, y_train, y_test = train_test_split(X, y, test_size=0.8, random_state=125)\n",
    "\n",
    "BPNet = MLPClassifier(random_state=123)\n",
    "BPNet.fit(X_train, y_train)\n",
    "y_pred = BPNet.predict(X_test)"
   ],
   "id": "7e6f5c3de819c52c",
   "outputs": [],
   "execution_count": 2
  },
  {
   "metadata": {
    "ExecuteTime": {
     "end_time": "2025-04-26T08:53:23.145779Z",
     "start_time": "2025-04-26T08:53:23.135282Z"
    }
   },
   "cell_type": "code",
   "source": [
    "print(y_test, y_pred)\n",
    "print(classification_report(y_test, y_pred))"
   ],
   "id": "7fbd593e4ac5e56a",
   "outputs": [
    {
     "name": "stdout",
     "output_type": "stream",
     "text": [
      "[0 0 1 1 0 0 0 0 1 0 1 1 1 1 1 1 1 1 0 1 0 0 0 0 1 1 0 1 0 0 1 0 1 1 0 1 1\n",
      " 1 1 0 1 1 1 0 1 0 0 1 1 0 1 1 0 1 1 1 0 1 1 0 1 1 0 0 0 0 0 0 1 1 0 1 1 0\n",
      " 1 0 1 1 1 0 0 0 1 1 1 0 1 1 0 1 0 1 0 1 0 1 1 1 1 0 1 1 1 1 1 1 1 1 1 1 1\n",
      " 1 0 1 1 1 1 1 1 1 1 0 1 0 1 0 1 0 0 1 0 1 1 1 1 1 1 1 1 1 1 1 0 1 1 0 1 0\n",
      " 1 1 0 1 0 1 0 0 1 0 1 1 1 1 0 1 1 1 0 1 1 0 0 1 1 1 0 0 1 1 0 1 1 1 0 0 0\n",
      " 0 0 1 0 0 1 0 0 1 1 0 1 0 1 1 1 0 1 1 0 1 1 0 1 1 0 1 1 1 1 1 1 0 1 0 1 1\n",
      " 0 0 1 1 0 0 1 1 1 0 1 0 1 1 1 1 1 1 1 0 1 1 1 1 1 1 1 0 0 0 0 0 1 1 1 1 0\n",
      " 0 0 0 1 0 1 1 1 0 1 1 1 0 1 1 0 1 1 1 1 1 0 1 1 0 0 1 0 0 1 0 0 0 1 1 1 0\n",
      " 0 1 0 1 0 1 0 1 0 1 0 0 1 1 0 1 1 1 1 1 1 1 0 0 0 1 0 0 1 0 1 0 0 0 1 1 1\n",
      " 1 1 1 0 1 1 1 1 0 1 1 0 0 1 0 0 1 1 0 1 1 0 1 0 1 1 1 1 1 0 1 1 1 1 1 0 1\n",
      " 0 1 0 1 1 0 0 1 1 1 1 0 1 1 0 0 1 1 1 1 1 0 1 1 1 0 1 0 0 1 1 1 1 1 1 1 0\n",
      " 0 1 0 1 1 1 1 1 1 0 0 1 1 1 1 1 1 0 0 1 0 0 1 1 0 0 1 1 0 1 1 0 1 1 1 0 1\n",
      " 1 0 1 1 1 1 0 0 1 1 1 1] [1 1 1 1 0 1 0 1 1 0 1 1 1 1 1 1 1 1 0 1 1 0 1 0 1 1 0 1 0 0 1 0 1 1 0 0 1\n",
      " 1 1 0 1 1 1 1 1 0 0 1 1 0 1 1 0 1 1 1 0 1 1 0 1 1 0 0 0 1 1 0 1 1 0 1 1 0\n",
      " 1 0 1 1 1 0 0 0 1 1 1 0 1 1 0 1 0 1 1 1 0 1 1 1 1 0 1 1 1 1 1 1 1 1 1 1 1\n",
      " 1 0 1 1 1 1 1 1 1 1 1 1 0 1 0 1 0 0 1 0 1 1 1 1 1 1 1 1 0 1 1 0 1 1 0 1 0\n",
      " 1 1 1 1 0 1 0 0 1 0 1 1 1 1 0 1 1 1 0 1 1 0 1 1 1 1 1 0 1 1 0 1 1 1 0 0 1\n",
      " 0 0 1 0 0 1 0 0 1 1 0 1 1 1 1 1 1 1 1 0 1 1 0 1 1 0 1 1 1 1 1 1 0 1 1 1 1\n",
      " 0 1 1 1 0 1 1 1 0 0 1 1 1 1 1 1 1 1 1 0 1 1 1 1 1 1 1 1 0 0 0 0 1 1 1 1 0\n",
      " 0 0 0 1 0 1 1 1 0 1 1 1 0 1 1 0 1 1 1 1 1 0 1 1 1 1 1 0 0 1 1 0 1 1 1 1 0\n",
      " 0 1 0 1 0 1 0 1 0 1 0 0 1 1 0 1 1 0 1 1 1 1 0 0 1 1 0 1 1 0 1 0 0 0 1 1 1\n",
      " 1 1 1 0 1 1 1 1 1 1 1 1 1 1 0 0 1 1 0 1 1 0 1 0 1 1 1 1 1 0 1 1 1 1 1 0 1\n",
      " 0 1 1 1 1 1 0 1 1 1 1 1 1 1 0 0 1 0 0 1 1 0 1 1 1 0 1 0 0 1 1 1 1 1 1 1 1\n",
      " 0 1 0 1 1 1 1 1 1 0 0 1 0 1 1 1 1 1 0 1 0 0 1 1 0 1 1 1 0 1 1 0 1 1 1 1 1\n",
      " 1 1 1 1 1 1 0 0 1 1 1 1]\n",
      "              precision    recall  f1-score   support\n",
      "\n",
      "           0       0.95      0.77      0.85       167\n",
      "           1       0.88      0.98      0.92       289\n",
      "\n",
      "    accuracy                           0.90       456\n",
      "   macro avg       0.91      0.87      0.89       456\n",
      "weighted avg       0.90      0.90      0.90       456\n",
      "\n"
     ]
    }
   ],
   "execution_count": 3
  },
  {
   "metadata": {},
   "cell_type": "markdown",
   "source": [
    "\n",
    "### **结果分析**\n",
    "#### **分类报告解读**\n",
    "```python\n",
    "              precision    recall  f1-score   support\n",
    "\n",
    "           0       0.95      0.77      0.85       167  # 类别0（良性）\n",
    "           1       0.88      0.98      0.92       289  # 类别1（恶性）\n",
    "\n",
    "    accuracy                           0.90       456\n",
    "   macro avg       0.91      0.87      0.89       456\n",
    "weighted avg       0.90      0.90      0.90       456\n",
    "```\n",
    "- **类别0（良性）**：\n",
    "  - **召回率（Recall）较低（0.77）**：模型漏诊了23%的良性肿瘤（假阴性较多）。\n",
    "- **类别1（恶性）**：\n",
    "  - **召回率高（0.98）**：模型成功识别了98%的恶性肿瘤（假阴性极少，对恶性敏感）。\n",
    "- **精确度（Precision）**：\n",
    "  - 恶性预测的精确度（0.88）略低于良性（0.95），说明部分被预测为恶性的实际是良性（假阳性）。\n",
    "\n",
    "#### **实际输出对比**\n",
    "- 示例片段：\n",
    "  ```python\n",
    "  y_test: [0 0 1 1 0 ...] \n",
    "  y_pred: [1 1 1 1 0 ...] \n",
    "  ```\n",
    "  - 前4个样本中有1个良性（0）被误判为恶性（1），与召回率低的表现一致。\n"
   ],
   "id": "68a3be361f525b35"
  }
 ],
 "metadata": {
  "kernelspec": {
   "display_name": "Python 3",
   "language": "python",
   "name": "python3"
  },
  "language_info": {
   "codemirror_mode": {
    "name": "ipython",
    "version": 2
   },
   "file_extension": ".py",
   "mimetype": "text/x-python",
   "name": "python",
   "nbconvert_exporter": "python",
   "pygments_lexer": "ipython2",
   "version": "2.7.6"
  }
 },
 "nbformat": 4,
 "nbformat_minor": 5
}
